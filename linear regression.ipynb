{
  "nbformat": 4,
  "nbformat_minor": 0,
  "metadata": {
    "colab": {
      "provenance": []
    },
    "kernelspec": {
      "name": "python3",
      "display_name": "Python 3"
    },
    "language_info": {
      "name": "python"
    }
  },
  "cells": [
    {
      "cell_type": "code",
      "execution_count": 10,
      "metadata": {
        "id": "1JQFGcuN0Vey"
      },
      "outputs": [],
      "source": [
        "import numpy as np\n",
        "import pandas as pd\n",
        "import matplotlib.pyplot as plt\n",
        "import seaborn as sns\n",
        "%matplotlib inline"
      ]
    },
    {
      "cell_type": "code",
      "source": [
        "data_url = \"http://lib.stat.cmu.edu/datasets/boston\"\n",
        "boston = pd.read_csv(data_url, sep=\"\\s+\", skiprows=22, header=None)\n",
        "data = np.hstack([boston.values[::2, :], boston.values[1::2, :2]])\n",
        "target = boston.values[1::2, 2]\n",
        "\n",
        "feature_names = ['CRIM', 'ZN', 'INDUS', 'CHAS', 'NOX', 'RM', 'AGE', 'DIS', 'RAD', 'TAX', 'PTRATIO', 'B', 'LSTAT']\n",
        "data = pd.DataFrame(data, columns=feature_names)\n",
        "data['PRICE'] = target\n",
        "data.head()"
      ],
      "metadata": {
        "colab": {
          "base_uri": "https://localhost:8080/",
          "height": 206
        },
        "id": "2jx8zwVZ1QNh",
        "outputId": "5b7c72b5-53d9-45b3-f5c0-c6dafa6cb56c"
      },
      "execution_count": 11,
      "outputs": [
        {
          "output_type": "execute_result",
          "data": {
            "text/plain": [
              "      CRIM    ZN  INDUS  CHAS    NOX     RM   AGE     DIS  RAD    TAX  \\\n",
              "0  0.00632  18.0   2.31   0.0  0.538  6.575  65.2  4.0900  1.0  296.0   \n",
              "1  0.02731   0.0   7.07   0.0  0.469  6.421  78.9  4.9671  2.0  242.0   \n",
              "2  0.02729   0.0   7.07   0.0  0.469  7.185  61.1  4.9671  2.0  242.0   \n",
              "3  0.03237   0.0   2.18   0.0  0.458  6.998  45.8  6.0622  3.0  222.0   \n",
              "4  0.06905   0.0   2.18   0.0  0.458  7.147  54.2  6.0622  3.0  222.0   \n",
              "\n",
              "   PTRATIO       B  LSTAT  PRICE  \n",
              "0     15.3  396.90   4.98   24.0  \n",
              "1     17.8  396.90   9.14   21.6  \n",
              "2     17.8  392.83   4.03   34.7  \n",
              "3     18.7  394.63   2.94   33.4  \n",
              "4     18.7  396.90   5.33   36.2  "
            ],
            "text/html": [
              "\n",
              "  <div id=\"df-8f4e4e12-d22c-4263-a5ee-495a84888e5f\" class=\"colab-df-container\">\n",
              "    <div>\n",
              "<style scoped>\n",
              "    .dataframe tbody tr th:only-of-type {\n",
              "        vertical-align: middle;\n",
              "    }\n",
              "\n",
              "    .dataframe tbody tr th {\n",
              "        vertical-align: top;\n",
              "    }\n",
              "\n",
              "    .dataframe thead th {\n",
              "        text-align: right;\n",
              "    }\n",
              "</style>\n",
              "<table border=\"1\" class=\"dataframe\">\n",
              "  <thead>\n",
              "    <tr style=\"text-align: right;\">\n",
              "      <th></th>\n",
              "      <th>CRIM</th>\n",
              "      <th>ZN</th>\n",
              "      <th>INDUS</th>\n",
              "      <th>CHAS</th>\n",
              "      <th>NOX</th>\n",
              "      <th>RM</th>\n",
              "      <th>AGE</th>\n",
              "      <th>DIS</th>\n",
              "      <th>RAD</th>\n",
              "      <th>TAX</th>\n",
              "      <th>PTRATIO</th>\n",
              "      <th>B</th>\n",
              "      <th>LSTAT</th>\n",
              "      <th>PRICE</th>\n",
              "    </tr>\n",
              "  </thead>\n",
              "  <tbody>\n",
              "    <tr>\n",
              "      <th>0</th>\n",
              "      <td>0.00632</td>\n",
              "      <td>18.0</td>\n",
              "      <td>2.31</td>\n",
              "      <td>0.0</td>\n",
              "      <td>0.538</td>\n",
              "      <td>6.575</td>\n",
              "      <td>65.2</td>\n",
              "      <td>4.0900</td>\n",
              "      <td>1.0</td>\n",
              "      <td>296.0</td>\n",
              "      <td>15.3</td>\n",
              "      <td>396.90</td>\n",
              "      <td>4.98</td>\n",
              "      <td>24.0</td>\n",
              "    </tr>\n",
              "    <tr>\n",
              "      <th>1</th>\n",
              "      <td>0.02731</td>\n",
              "      <td>0.0</td>\n",
              "      <td>7.07</td>\n",
              "      <td>0.0</td>\n",
              "      <td>0.469</td>\n",
              "      <td>6.421</td>\n",
              "      <td>78.9</td>\n",
              "      <td>4.9671</td>\n",
              "      <td>2.0</td>\n",
              "      <td>242.0</td>\n",
              "      <td>17.8</td>\n",
              "      <td>396.90</td>\n",
              "      <td>9.14</td>\n",
              "      <td>21.6</td>\n",
              "    </tr>\n",
              "    <tr>\n",
              "      <th>2</th>\n",
              "      <td>0.02729</td>\n",
              "      <td>0.0</td>\n",
              "      <td>7.07</td>\n",
              "      <td>0.0</td>\n",
              "      <td>0.469</td>\n",
              "      <td>7.185</td>\n",
              "      <td>61.1</td>\n",
              "      <td>4.9671</td>\n",
              "      <td>2.0</td>\n",
              "      <td>242.0</td>\n",
              "      <td>17.8</td>\n",
              "      <td>392.83</td>\n",
              "      <td>4.03</td>\n",
              "      <td>34.7</td>\n",
              "    </tr>\n",
              "    <tr>\n",
              "      <th>3</th>\n",
              "      <td>0.03237</td>\n",
              "      <td>0.0</td>\n",
              "      <td>2.18</td>\n",
              "      <td>0.0</td>\n",
              "      <td>0.458</td>\n",
              "      <td>6.998</td>\n",
              "      <td>45.8</td>\n",
              "      <td>6.0622</td>\n",
              "      <td>3.0</td>\n",
              "      <td>222.0</td>\n",
              "      <td>18.7</td>\n",
              "      <td>394.63</td>\n",
              "      <td>2.94</td>\n",
              "      <td>33.4</td>\n",
              "    </tr>\n",
              "    <tr>\n",
              "      <th>4</th>\n",
              "      <td>0.06905</td>\n",
              "      <td>0.0</td>\n",
              "      <td>2.18</td>\n",
              "      <td>0.0</td>\n",
              "      <td>0.458</td>\n",
              "      <td>7.147</td>\n",
              "      <td>54.2</td>\n",
              "      <td>6.0622</td>\n",
              "      <td>3.0</td>\n",
              "      <td>222.0</td>\n",
              "      <td>18.7</td>\n",
              "      <td>396.90</td>\n",
              "      <td>5.33</td>\n",
              "      <td>36.2</td>\n",
              "    </tr>\n",
              "  </tbody>\n",
              "</table>\n",
              "</div>\n",
              "    <div class=\"colab-df-buttons\">\n",
              "\n",
              "  <div class=\"colab-df-container\">\n",
              "    <button class=\"colab-df-convert\" onclick=\"convertToInteractive('df-8f4e4e12-d22c-4263-a5ee-495a84888e5f')\"\n",
              "            title=\"Convert this dataframe to an interactive table.\"\n",
              "            style=\"display:none;\">\n",
              "\n",
              "  <svg xmlns=\"http://www.w3.org/2000/svg\" height=\"24px\" viewBox=\"0 -960 960 960\">\n",
              "    <path d=\"M120-120v-720h720v720H120Zm60-500h600v-160H180v160Zm220 220h160v-160H400v160Zm0 220h160v-160H400v160ZM180-400h160v-160H180v160Zm440 0h160v-160H620v160ZM180-180h160v-160H180v160Zm440 0h160v-160H620v160Z\"/>\n",
              "  </svg>\n",
              "    </button>\n",
              "\n",
              "  <style>\n",
              "    .colab-df-container {\n",
              "      display:flex;\n",
              "      gap: 12px;\n",
              "    }\n",
              "\n",
              "    .colab-df-convert {\n",
              "      background-color: #E8F0FE;\n",
              "      border: none;\n",
              "      border-radius: 50%;\n",
              "      cursor: pointer;\n",
              "      display: none;\n",
              "      fill: #1967D2;\n",
              "      height: 32px;\n",
              "      padding: 0 0 0 0;\n",
              "      width: 32px;\n",
              "    }\n",
              "\n",
              "    .colab-df-convert:hover {\n",
              "      background-color: #E2EBFA;\n",
              "      box-shadow: 0px 1px 2px rgba(60, 64, 67, 0.3), 0px 1px 3px 1px rgba(60, 64, 67, 0.15);\n",
              "      fill: #174EA6;\n",
              "    }\n",
              "\n",
              "    .colab-df-buttons div {\n",
              "      margin-bottom: 4px;\n",
              "    }\n",
              "\n",
              "    [theme=dark] .colab-df-convert {\n",
              "      background-color: #3B4455;\n",
              "      fill: #D2E3FC;\n",
              "    }\n",
              "\n",
              "    [theme=dark] .colab-df-convert:hover {\n",
              "      background-color: #434B5C;\n",
              "      box-shadow: 0px 1px 3px 1px rgba(0, 0, 0, 0.15);\n",
              "      filter: drop-shadow(0px 1px 2px rgba(0, 0, 0, 0.3));\n",
              "      fill: #FFFFFF;\n",
              "    }\n",
              "  </style>\n",
              "\n",
              "    <script>\n",
              "      const buttonEl =\n",
              "        document.querySelector('#df-8f4e4e12-d22c-4263-a5ee-495a84888e5f button.colab-df-convert');\n",
              "      buttonEl.style.display =\n",
              "        google.colab.kernel.accessAllowed ? 'block' : 'none';\n",
              "\n",
              "      async function convertToInteractive(key) {\n",
              "        const element = document.querySelector('#df-8f4e4e12-d22c-4263-a5ee-495a84888e5f');\n",
              "        const dataTable =\n",
              "          await google.colab.kernel.invokeFunction('convertToInteractive',\n",
              "                                                    [key], {});\n",
              "        if (!dataTable) return;\n",
              "\n",
              "        const docLinkHtml = 'Like what you see? Visit the ' +\n",
              "          '<a target=\"_blank\" href=https://colab.research.google.com/notebooks/data_table.ipynb>data table notebook</a>'\n",
              "          + ' to learn more about interactive tables.';\n",
              "        element.innerHTML = '';\n",
              "        dataTable['output_type'] = 'display_data';\n",
              "        await google.colab.output.renderOutput(dataTable, element);\n",
              "        const docLink = document.createElement('div');\n",
              "        docLink.innerHTML = docLinkHtml;\n",
              "        element.appendChild(docLink);\n",
              "      }\n",
              "    </script>\n",
              "  </div>\n",
              "\n",
              "\n",
              "<div id=\"df-b2412de2-4ac2-4c9e-b4d2-441b21f8098e\">\n",
              "  <button class=\"colab-df-quickchart\" onclick=\"quickchart('df-b2412de2-4ac2-4c9e-b4d2-441b21f8098e')\"\n",
              "            title=\"Suggest charts\"\n",
              "            style=\"display:none;\">\n",
              "\n",
              "<svg xmlns=\"http://www.w3.org/2000/svg\" height=\"24px\"viewBox=\"0 0 24 24\"\n",
              "     width=\"24px\">\n",
              "    <g>\n",
              "        <path d=\"M19 3H5c-1.1 0-2 .9-2 2v14c0 1.1.9 2 2 2h14c1.1 0 2-.9 2-2V5c0-1.1-.9-2-2-2zM9 17H7v-7h2v7zm4 0h-2V7h2v10zm4 0h-2v-4h2v4z\"/>\n",
              "    </g>\n",
              "</svg>\n",
              "  </button>\n",
              "\n",
              "<style>\n",
              "  .colab-df-quickchart {\n",
              "      --bg-color: #E8F0FE;\n",
              "      --fill-color: #1967D2;\n",
              "      --hover-bg-color: #E2EBFA;\n",
              "      --hover-fill-color: #174EA6;\n",
              "      --disabled-fill-color: #AAA;\n",
              "      --disabled-bg-color: #DDD;\n",
              "  }\n",
              "\n",
              "  [theme=dark] .colab-df-quickchart {\n",
              "      --bg-color: #3B4455;\n",
              "      --fill-color: #D2E3FC;\n",
              "      --hover-bg-color: #434B5C;\n",
              "      --hover-fill-color: #FFFFFF;\n",
              "      --disabled-bg-color: #3B4455;\n",
              "      --disabled-fill-color: #666;\n",
              "  }\n",
              "\n",
              "  .colab-df-quickchart {\n",
              "    background-color: var(--bg-color);\n",
              "    border: none;\n",
              "    border-radius: 50%;\n",
              "    cursor: pointer;\n",
              "    display: none;\n",
              "    fill: var(--fill-color);\n",
              "    height: 32px;\n",
              "    padding: 0;\n",
              "    width: 32px;\n",
              "  }\n",
              "\n",
              "  .colab-df-quickchart:hover {\n",
              "    background-color: var(--hover-bg-color);\n",
              "    box-shadow: 0 1px 2px rgba(60, 64, 67, 0.3), 0 1px 3px 1px rgba(60, 64, 67, 0.15);\n",
              "    fill: var(--button-hover-fill-color);\n",
              "  }\n",
              "\n",
              "  .colab-df-quickchart-complete:disabled,\n",
              "  .colab-df-quickchart-complete:disabled:hover {\n",
              "    background-color: var(--disabled-bg-color);\n",
              "    fill: var(--disabled-fill-color);\n",
              "    box-shadow: none;\n",
              "  }\n",
              "\n",
              "  .colab-df-spinner {\n",
              "    border: 2px solid var(--fill-color);\n",
              "    border-color: transparent;\n",
              "    border-bottom-color: var(--fill-color);\n",
              "    animation:\n",
              "      spin 1s steps(1) infinite;\n",
              "  }\n",
              "\n",
              "  @keyframes spin {\n",
              "    0% {\n",
              "      border-color: transparent;\n",
              "      border-bottom-color: var(--fill-color);\n",
              "      border-left-color: var(--fill-color);\n",
              "    }\n",
              "    20% {\n",
              "      border-color: transparent;\n",
              "      border-left-color: var(--fill-color);\n",
              "      border-top-color: var(--fill-color);\n",
              "    }\n",
              "    30% {\n",
              "      border-color: transparent;\n",
              "      border-left-color: var(--fill-color);\n",
              "      border-top-color: var(--fill-color);\n",
              "      border-right-color: var(--fill-color);\n",
              "    }\n",
              "    40% {\n",
              "      border-color: transparent;\n",
              "      border-right-color: var(--fill-color);\n",
              "      border-top-color: var(--fill-color);\n",
              "    }\n",
              "    60% {\n",
              "      border-color: transparent;\n",
              "      border-right-color: var(--fill-color);\n",
              "    }\n",
              "    80% {\n",
              "      border-color: transparent;\n",
              "      border-right-color: var(--fill-color);\n",
              "      border-bottom-color: var(--fill-color);\n",
              "    }\n",
              "    90% {\n",
              "      border-color: transparent;\n",
              "      border-bottom-color: var(--fill-color);\n",
              "    }\n",
              "  }\n",
              "</style>\n",
              "\n",
              "  <script>\n",
              "    async function quickchart(key) {\n",
              "      const quickchartButtonEl =\n",
              "        document.querySelector('#' + key + ' button');\n",
              "      quickchartButtonEl.disabled = true;  // To prevent multiple clicks.\n",
              "      quickchartButtonEl.classList.add('colab-df-spinner');\n",
              "      try {\n",
              "        const charts = await google.colab.kernel.invokeFunction(\n",
              "            'suggestCharts', [key], {});\n",
              "      } catch (error) {\n",
              "        console.error('Error during call to suggestCharts:', error);\n",
              "      }\n",
              "      quickchartButtonEl.classList.remove('colab-df-spinner');\n",
              "      quickchartButtonEl.classList.add('colab-df-quickchart-complete');\n",
              "    }\n",
              "    (() => {\n",
              "      let quickchartButtonEl =\n",
              "        document.querySelector('#df-b2412de2-4ac2-4c9e-b4d2-441b21f8098e button');\n",
              "      quickchartButtonEl.style.display =\n",
              "        google.colab.kernel.accessAllowed ? 'block' : 'none';\n",
              "    })();\n",
              "  </script>\n",
              "</div>\n",
              "\n",
              "    </div>\n",
              "  </div>\n"
            ],
            "application/vnd.google.colaboratory.intrinsic+json": {
              "type": "dataframe",
              "variable_name": "data",
              "summary": "{\n  \"name\": \"data\",\n  \"rows\": 506,\n  \"fields\": [\n    {\n      \"column\": \"CRIM\",\n      \"properties\": {\n        \"dtype\": \"number\",\n        \"std\": 8.601545105332487,\n        \"min\": 0.00632,\n        \"max\": 88.9762,\n        \"num_unique_values\": 504,\n        \"samples\": [\n          0.09178,\n          0.05644,\n          0.10574\n        ],\n        \"semantic_type\": \"\",\n        \"description\": \"\"\n      }\n    },\n    {\n      \"column\": \"ZN\",\n      \"properties\": {\n        \"dtype\": \"number\",\n        \"std\": 23.322452994515036,\n        \"min\": 0.0,\n        \"max\": 100.0,\n        \"num_unique_values\": 26,\n        \"samples\": [\n          25.0,\n          30.0,\n          18.0\n        ],\n        \"semantic_type\": \"\",\n        \"description\": \"\"\n      }\n    },\n    {\n      \"column\": \"INDUS\",\n      \"properties\": {\n        \"dtype\": \"number\",\n        \"std\": 6.8603529408975845,\n        \"min\": 0.46,\n        \"max\": 27.74,\n        \"num_unique_values\": 76,\n        \"samples\": [\n          8.14,\n          1.47,\n          1.22\n        ],\n        \"semantic_type\": \"\",\n        \"description\": \"\"\n      }\n    },\n    {\n      \"column\": \"CHAS\",\n      \"properties\": {\n        \"dtype\": \"number\",\n        \"std\": 0.2539940413404118,\n        \"min\": 0.0,\n        \"max\": 1.0,\n        \"num_unique_values\": 2,\n        \"samples\": [\n          1.0,\n          0.0\n        ],\n        \"semantic_type\": \"\",\n        \"description\": \"\"\n      }\n    },\n    {\n      \"column\": \"NOX\",\n      \"properties\": {\n        \"dtype\": \"number\",\n        \"std\": 0.11587767566755611,\n        \"min\": 0.385,\n        \"max\": 0.871,\n        \"num_unique_values\": 81,\n        \"samples\": [\n          0.401,\n          0.538\n        ],\n        \"semantic_type\": \"\",\n        \"description\": \"\"\n      }\n    },\n    {\n      \"column\": \"RM\",\n      \"properties\": {\n        \"dtype\": \"number\",\n        \"std\": 0.7026171434153237,\n        \"min\": 3.561,\n        \"max\": 8.78,\n        \"num_unique_values\": 446,\n        \"samples\": [\n          6.849,\n          4.88\n        ],\n        \"semantic_type\": \"\",\n        \"description\": \"\"\n      }\n    },\n    {\n      \"column\": \"AGE\",\n      \"properties\": {\n        \"dtype\": \"number\",\n        \"std\": 28.148861406903638,\n        \"min\": 2.9,\n        \"max\": 100.0,\n        \"num_unique_values\": 356,\n        \"samples\": [\n          51.8,\n          33.8\n        ],\n        \"semantic_type\": \"\",\n        \"description\": \"\"\n      }\n    },\n    {\n      \"column\": \"DIS\",\n      \"properties\": {\n        \"dtype\": \"number\",\n        \"std\": 2.1057101266276104,\n        \"min\": 1.1296,\n        \"max\": 12.1265,\n        \"num_unique_values\": 412,\n        \"samples\": [\n          2.2955,\n          4.2515\n        ],\n        \"semantic_type\": \"\",\n        \"description\": \"\"\n      }\n    },\n    {\n      \"column\": \"RAD\",\n      \"properties\": {\n        \"dtype\": \"number\",\n        \"std\": 8.707259384239377,\n        \"min\": 1.0,\n        \"max\": 24.0,\n        \"num_unique_values\": 9,\n        \"samples\": [\n          7.0,\n          2.0\n        ],\n        \"semantic_type\": \"\",\n        \"description\": \"\"\n      }\n    },\n    {\n      \"column\": \"TAX\",\n      \"properties\": {\n        \"dtype\": \"number\",\n        \"std\": 168.53711605495926,\n        \"min\": 187.0,\n        \"max\": 711.0,\n        \"num_unique_values\": 66,\n        \"samples\": [\n          370.0,\n          666.0\n        ],\n        \"semantic_type\": \"\",\n        \"description\": \"\"\n      }\n    },\n    {\n      \"column\": \"PTRATIO\",\n      \"properties\": {\n        \"dtype\": \"number\",\n        \"std\": 2.164945523714446,\n        \"min\": 12.6,\n        \"max\": 22.0,\n        \"num_unique_values\": 46,\n        \"samples\": [\n          19.6,\n          15.6\n        ],\n        \"semantic_type\": \"\",\n        \"description\": \"\"\n      }\n    },\n    {\n      \"column\": \"B\",\n      \"properties\": {\n        \"dtype\": \"number\",\n        \"std\": 91.29486438415779,\n        \"min\": 0.32,\n        \"max\": 396.9,\n        \"num_unique_values\": 357,\n        \"samples\": [\n          396.24,\n          395.11\n        ],\n        \"semantic_type\": \"\",\n        \"description\": \"\"\n      }\n    },\n    {\n      \"column\": \"LSTAT\",\n      \"properties\": {\n        \"dtype\": \"number\",\n        \"std\": 7.141061511348571,\n        \"min\": 1.73,\n        \"max\": 37.97,\n        \"num_unique_values\": 455,\n        \"samples\": [\n          6.15,\n          4.32\n        ],\n        \"semantic_type\": \"\",\n        \"description\": \"\"\n      }\n    },\n    {\n      \"column\": \"PRICE\",\n      \"properties\": {\n        \"dtype\": \"number\",\n        \"std\": 9.19710408737982,\n        \"min\": 5.0,\n        \"max\": 50.0,\n        \"num_unique_values\": 229,\n        \"samples\": [\n          14.1,\n          22.5\n        ],\n        \"semantic_type\": \"\",\n        \"description\": \"\"\n      }\n    }\n  ]\n}"
            }
          },
          "metadata": {},
          "execution_count": 11
        }
      ]
    },
    {
      "cell_type": "code",
      "source": [
        "data.shape"
      ],
      "metadata": {
        "colab": {
          "base_uri": "https://localhost:8080/"
        },
        "id": "HY3OfiJO1cyh",
        "outputId": "94c1d6bf-ce94-4dc4-afb9-3d0e68f63e52"
      },
      "execution_count": 12,
      "outputs": [
        {
          "output_type": "execute_result",
          "data": {
            "text/plain": [
              "(506, 14)"
            ]
          },
          "metadata": {},
          "execution_count": 12
        }
      ]
    },
    {
      "cell_type": "code",
      "source": [
        "data.dtypes"
      ],
      "metadata": {
        "colab": {
          "base_uri": "https://localhost:8080/",
          "height": 523
        },
        "id": "0yFNrwR72G21",
        "outputId": "af534575-b37b-4d2c-c517-4e0606acdb67"
      },
      "execution_count": 13,
      "outputs": [
        {
          "output_type": "execute_result",
          "data": {
            "text/plain": [
              "CRIM       float64\n",
              "ZN         float64\n",
              "INDUS      float64\n",
              "CHAS       float64\n",
              "NOX        float64\n",
              "RM         float64\n",
              "AGE        float64\n",
              "DIS        float64\n",
              "RAD        float64\n",
              "TAX        float64\n",
              "PTRATIO    float64\n",
              "B          float64\n",
              "LSTAT      float64\n",
              "PRICE      float64\n",
              "dtype: object"
            ],
            "text/html": [
              "<div>\n",
              "<style scoped>\n",
              "    .dataframe tbody tr th:only-of-type {\n",
              "        vertical-align: middle;\n",
              "    }\n",
              "\n",
              "    .dataframe tbody tr th {\n",
              "        vertical-align: top;\n",
              "    }\n",
              "\n",
              "    .dataframe thead th {\n",
              "        text-align: right;\n",
              "    }\n",
              "</style>\n",
              "<table border=\"1\" class=\"dataframe\">\n",
              "  <thead>\n",
              "    <tr style=\"text-align: right;\">\n",
              "      <th></th>\n",
              "      <th>0</th>\n",
              "    </tr>\n",
              "  </thead>\n",
              "  <tbody>\n",
              "    <tr>\n",
              "      <th>CRIM</th>\n",
              "      <td>float64</td>\n",
              "    </tr>\n",
              "    <tr>\n",
              "      <th>ZN</th>\n",
              "      <td>float64</td>\n",
              "    </tr>\n",
              "    <tr>\n",
              "      <th>INDUS</th>\n",
              "      <td>float64</td>\n",
              "    </tr>\n",
              "    <tr>\n",
              "      <th>CHAS</th>\n",
              "      <td>float64</td>\n",
              "    </tr>\n",
              "    <tr>\n",
              "      <th>NOX</th>\n",
              "      <td>float64</td>\n",
              "    </tr>\n",
              "    <tr>\n",
              "      <th>RM</th>\n",
              "      <td>float64</td>\n",
              "    </tr>\n",
              "    <tr>\n",
              "      <th>AGE</th>\n",
              "      <td>float64</td>\n",
              "    </tr>\n",
              "    <tr>\n",
              "      <th>DIS</th>\n",
              "      <td>float64</td>\n",
              "    </tr>\n",
              "    <tr>\n",
              "      <th>RAD</th>\n",
              "      <td>float64</td>\n",
              "    </tr>\n",
              "    <tr>\n",
              "      <th>TAX</th>\n",
              "      <td>float64</td>\n",
              "    </tr>\n",
              "    <tr>\n",
              "      <th>PTRATIO</th>\n",
              "      <td>float64</td>\n",
              "    </tr>\n",
              "    <tr>\n",
              "      <th>B</th>\n",
              "      <td>float64</td>\n",
              "    </tr>\n",
              "    <tr>\n",
              "      <th>LSTAT</th>\n",
              "      <td>float64</td>\n",
              "    </tr>\n",
              "    <tr>\n",
              "      <th>PRICE</th>\n",
              "      <td>float64</td>\n",
              "    </tr>\n",
              "  </tbody>\n",
              "</table>\n",
              "</div><br><label><b>dtype:</b> object</label>"
            ]
          },
          "metadata": {},
          "execution_count": 13
        }
      ]
    },
    {
      "cell_type": "code",
      "source": [
        "data.isnull().sum()"
      ],
      "metadata": {
        "colab": {
          "base_uri": "https://localhost:8080/",
          "height": 523
        },
        "id": "nOET2em52H_N",
        "outputId": "508e0efc-b314-42c9-c1b9-38863ce1a214"
      },
      "execution_count": 14,
      "outputs": [
        {
          "output_type": "execute_result",
          "data": {
            "text/plain": [
              "CRIM       0\n",
              "ZN         0\n",
              "INDUS      0\n",
              "CHAS       0\n",
              "NOX        0\n",
              "RM         0\n",
              "AGE        0\n",
              "DIS        0\n",
              "RAD        0\n",
              "TAX        0\n",
              "PTRATIO    0\n",
              "B          0\n",
              "LSTAT      0\n",
              "PRICE      0\n",
              "dtype: int64"
            ],
            "text/html": [
              "<div>\n",
              "<style scoped>\n",
              "    .dataframe tbody tr th:only-of-type {\n",
              "        vertical-align: middle;\n",
              "    }\n",
              "\n",
              "    .dataframe tbody tr th {\n",
              "        vertical-align: top;\n",
              "    }\n",
              "\n",
              "    .dataframe thead th {\n",
              "        text-align: right;\n",
              "    }\n",
              "</style>\n",
              "<table border=\"1\" class=\"dataframe\">\n",
              "  <thead>\n",
              "    <tr style=\"text-align: right;\">\n",
              "      <th></th>\n",
              "      <th>0</th>\n",
              "    </tr>\n",
              "  </thead>\n",
              "  <tbody>\n",
              "    <tr>\n",
              "      <th>CRIM</th>\n",
              "      <td>0</td>\n",
              "    </tr>\n",
              "    <tr>\n",
              "      <th>ZN</th>\n",
              "      <td>0</td>\n",
              "    </tr>\n",
              "    <tr>\n",
              "      <th>INDUS</th>\n",
              "      <td>0</td>\n",
              "    </tr>\n",
              "    <tr>\n",
              "      <th>CHAS</th>\n",
              "      <td>0</td>\n",
              "    </tr>\n",
              "    <tr>\n",
              "      <th>NOX</th>\n",
              "      <td>0</td>\n",
              "    </tr>\n",
              "    <tr>\n",
              "      <th>RM</th>\n",
              "      <td>0</td>\n",
              "    </tr>\n",
              "    <tr>\n",
              "      <th>AGE</th>\n",
              "      <td>0</td>\n",
              "    </tr>\n",
              "    <tr>\n",
              "      <th>DIS</th>\n",
              "      <td>0</td>\n",
              "    </tr>\n",
              "    <tr>\n",
              "      <th>RAD</th>\n",
              "      <td>0</td>\n",
              "    </tr>\n",
              "    <tr>\n",
              "      <th>TAX</th>\n",
              "      <td>0</td>\n",
              "    </tr>\n",
              "    <tr>\n",
              "      <th>PTRATIO</th>\n",
              "      <td>0</td>\n",
              "    </tr>\n",
              "    <tr>\n",
              "      <th>B</th>\n",
              "      <td>0</td>\n",
              "    </tr>\n",
              "    <tr>\n",
              "      <th>LSTAT</th>\n",
              "      <td>0</td>\n",
              "    </tr>\n",
              "    <tr>\n",
              "      <th>PRICE</th>\n",
              "      <td>0</td>\n",
              "    </tr>\n",
              "  </tbody>\n",
              "</table>\n",
              "</div><br><label><b>dtype:</b> int64</label>"
            ]
          },
          "metadata": {},
          "execution_count": 14
        }
      ]
    },
    {
      "cell_type": "code",
      "source": [
        "Y = data[['PRICE']].to_numpy()\n",
        "X = data[feature_names].to_numpy()\n",
        "print(X.shape)\n",
        "print(Y.shape)"
      ],
      "metadata": {
        "colab": {
          "base_uri": "https://localhost:8080/"
        },
        "id": "iAX-OLkK3HlD",
        "outputId": "04539e14-c83a-4391-e73f-2d5b4a19123c"
      },
      "execution_count": 18,
      "outputs": [
        {
          "output_type": "stream",
          "name": "stdout",
          "text": [
            "(506, 13)\n",
            "(506, 1)\n"
          ]
        }
      ]
    },
    {
      "cell_type": "markdown",
      "source": [
        "## Going over the functions of the linear regression"
      ],
      "metadata": {
        "id": "t9JN3cy_8tis"
      }
    },
    {
      "cell_type": "markdown",
      "source": [
        "#### The Hypothesis (Prediction)\n",
        "A linear regression is simply the multiplication of each weight with the corresponding variable. Formally, the hypothesis is as follows:\n",
        "\n",
        "![hypothesis.png](data:image/png;base64,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)![](/content/hypothesis.png)"
      ],
      "metadata": {
        "id": "VrG_OpBt5bPf"
      }
    },
    {
      "cell_type": "code",
      "source": [
        "data.shape"
      ],
      "metadata": {
        "colab": {
          "base_uri": "https://localhost:8080/"
        },
        "id": "sxPNdEOE6ug4",
        "outputId": "430a9bde-f623-493c-9339-abc864e4f525"
      },
      "execution_count": 19,
      "outputs": [
        {
          "output_type": "execute_result",
          "data": {
            "text/plain": [
              "(506, 14)"
            ]
          },
          "metadata": {},
          "execution_count": 19
        }
      ]
    },
    {
      "cell_type": "code",
      "source": [
        "weights = np.ones(shape=(X.shape[1], 1))\n",
        "\n",
        "weights.shape"
      ],
      "metadata": {
        "colab": {
          "base_uri": "https://localhost:8080/"
        },
        "id": "J76S79Lj6uYg",
        "outputId": "35e8e1cb-138d-4107-ac00-2a1be7d90755"
      },
      "execution_count": 20,
      "outputs": [
        {
          "output_type": "execute_result",
          "data": {
            "text/plain": [
              "(13, 1)"
            ]
          },
          "metadata": {},
          "execution_count": 20
        }
      ]
    },
    {
      "cell_type": "code",
      "source": [
        "# Using the hypothesis with a for loop\n",
        "\n",
        "all_predictions = []\n",
        "for data_point in X:\n",
        "    hypothesis = 0\n",
        "    for theta, x in zip(weights, data_point):\n",
        "        hypothesis += theta*x\n",
        "\n",
        "    all_predictions.append(hypothesis)\n",
        "\n",
        "all_predictions[0:10]"
      ],
      "metadata": {
        "colab": {
          "base_uri": "https://localhost:8080/"
        },
        "id": "_LxHFrNl4iNv",
        "outputId": "71b093bf-774e-47a8-c6db-da72f7c07f05"
      },
      "execution_count": 21,
      "outputs": [
        {
          "output_type": "execute_result",
          "data": {
            "text/plain": [
              "[array([810.89932]),\n",
              " array([765.69441]),\n",
              " array([739.47839]),\n",
              " array([702.80057]),\n",
              " array([716.04625]),\n",
              " array([716.89005]),\n",
              " array([838.38479]),\n",
              " array([876.51105]),\n",
              " array([880.57834]),\n",
              " array([854.57014])]"
            ]
          },
          "metadata": {},
          "execution_count": 21
        }
      ]
    },
    {
      "cell_type": "code",
      "source": [
        "# Using the hypothesis with vectorized operations\n",
        "\n",
        "all_predictions = X @ weights\n",
        "\n",
        "all_predictions[0:10]"
      ],
      "metadata": {
        "colab": {
          "base_uri": "https://localhost:8080/"
        },
        "id": "Jx0Luv3r6x_D",
        "outputId": "b0a11e58-fa09-4706-8478-4a9eab4769f1"
      },
      "execution_count": 22,
      "outputs": [
        {
          "output_type": "execute_result",
          "data": {
            "text/plain": [
              "array([[810.89932],\n",
              "       [765.69441],\n",
              "       [739.47839],\n",
              "       [702.80057],\n",
              "       [716.04625],\n",
              "       [716.89005],\n",
              "       [838.38479],\n",
              "       [876.51105],\n",
              "       [880.57834],\n",
              "       [854.57014]])"
            ]
          },
          "metadata": {},
          "execution_count": 22
        }
      ]
    },
    {
      "cell_type": "markdown",
      "source": [
        "## Seeing how fit works"
      ],
      "metadata": {
        "id": "0yJQ8As78yqs"
      }
    },
    {
      "cell_type": "markdown",
      "source": [
        "For mean squared error, the formula is:\n",
        "![mse_loss_function.png](data:image/png;base64,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)"
      ],
      "metadata": {
        "id": "MEhwLQip84-2"
      }
    },
    {
      "cell_type": "code",
      "source": [
        "def sample_mse_function(Y, Y_pred):\n",
        "    return np.mean((Y - Y_pred) ** 2)"
      ],
      "metadata": {
        "id": "3OmjHS9x63xP"
      },
      "execution_count": 23,
      "outputs": []
    },
    {
      "cell_type": "code",
      "source": [
        "Y = np.array([1, 0, 0, 1])\n",
        "Y_Pred = np.array([1, 0, 0, 0])\n",
        "\n",
        "error = sample_mse_function(Y, Y_Pred)\n",
        "error"
      ],
      "metadata": {
        "colab": {
          "base_uri": "https://localhost:8080/"
        },
        "id": "cQ0OuUZq9JWw",
        "outputId": "86fc76bb-9825-4ab4-bb7e-78ab8b6d7aa5"
      },
      "execution_count": 24,
      "outputs": [
        {
          "output_type": "execute_result",
          "data": {
            "text/plain": [
              "0.25"
            ]
          },
          "metadata": {},
          "execution_count": 24
        }
      ]
    },
    {
      "cell_type": "markdown",
      "source": [
        "MSE Derivative:\n",
        "![mse_derivative.png](data:image/png;base64,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)"
      ],
      "metadata": {
        "id": "O9Xmn1yqLyjQ"
      }
    },
    {
      "cell_type": "code",
      "source": [
        "X = np.array([[2, 3, 4], [1, 2, 3], [5, 6, 7], [10, 11, 12]])\n",
        "\n",
        "X.shape"
      ],
      "metadata": {
        "colab": {
          "base_uri": "https://localhost:8080/"
        },
        "id": "D1T3VWkG9K5g",
        "outputId": "d9f39958-1d43-494d-a656-7e99b5b24ba9"
      },
      "execution_count": 25,
      "outputs": [
        {
          "output_type": "execute_result",
          "data": {
            "text/plain": [
              "(4, 3)"
            ]
          },
          "metadata": {},
          "execution_count": 25
        }
      ]
    },
    {
      "cell_type": "code",
      "source": [
        "weights = np.ones(shape=(X.shape[1], 1))\n",
        "\n",
        "weights"
      ],
      "metadata": {
        "colab": {
          "base_uri": "https://localhost:8080/"
        },
        "id": "mtuiSRcVL5Rb",
        "outputId": "b3690869-68e5-4516-fb3c-b9ce9d309a20"
      },
      "execution_count": 26,
      "outputs": [
        {
          "output_type": "execute_result",
          "data": {
            "text/plain": [
              "array([[1.],\n",
              "       [1.],\n",
              "       [1.]])"
            ]
          },
          "metadata": {},
          "execution_count": 26
        }
      ]
    },
    {
      "cell_type": "code",
      "source": [
        "Y_pred = X@weights\n",
        "\n",
        "Y_pred"
      ],
      "metadata": {
        "colab": {
          "base_uri": "https://localhost:8080/"
        },
        "id": "WsWnq2-nL7KC",
        "outputId": "64030272-805b-4b97-d7d8-7db76dc68a63"
      },
      "execution_count": 27,
      "outputs": [
        {
          "output_type": "execute_result",
          "data": {
            "text/plain": [
              "array([[ 9.],\n",
              "       [ 6.],\n",
              "       [18.],\n",
              "       [33.]])"
            ]
          },
          "metadata": {},
          "execution_count": 27
        }
      ]
    },
    {
      "cell_type": "code",
      "source": [
        "Y_true = np.array([[8], [7], [19], [32]])\n",
        "\n",
        "Y_true.shape"
      ],
      "metadata": {
        "colab": {
          "base_uri": "https://localhost:8080/"
        },
        "id": "FIjHEAxaL9mq",
        "outputId": "4115e850-dc09-47d9-a153-7be05ac443e2"
      },
      "execution_count": 28,
      "outputs": [
        {
          "output_type": "execute_result",
          "data": {
            "text/plain": [
              "(4, 1)"
            ]
          },
          "metadata": {},
          "execution_count": 28
        }
      ]
    },
    {
      "cell_type": "code",
      "source": [
        "sample_mse_function(Y_true, Y_pred)"
      ],
      "metadata": {
        "colab": {
          "base_uri": "https://localhost:8080/"
        },
        "id": "aUkb7OZZMAQ9",
        "outputId": "9978af90-050f-4904-8051-11f92ef06525"
      },
      "execution_count": 29,
      "outputs": [
        {
          "output_type": "execute_result",
          "data": {
            "text/plain": [
              "1.0"
            ]
          },
          "metadata": {},
          "execution_count": 29
        }
      ]
    },
    {
      "cell_type": "code",
      "source": [
        "difference = Y_true - Y_pred\n",
        "\n",
        "difference"
      ],
      "metadata": {
        "colab": {
          "base_uri": "https://localhost:8080/"
        },
        "id": "Q_yj0dXaMCVy",
        "outputId": "e1165cbf-9e9d-488c-bf51-c2de906ea956"
      },
      "execution_count": 30,
      "outputs": [
        {
          "output_type": "execute_result",
          "data": {
            "text/plain": [
              "array([[-1.],\n",
              "       [ 1.],\n",
              "       [ 1.],\n",
              "       [-1.]])"
            ]
          },
          "metadata": {},
          "execution_count": 30
        }
      ]
    },
    {
      "cell_type": "code",
      "source": [
        "X"
      ],
      "metadata": {
        "colab": {
          "base_uri": "https://localhost:8080/"
        },
        "id": "gU4OSb9QMgB5",
        "outputId": "5c9f7ec4-6629-4578-ad9e-c1f038af0f29"
      },
      "execution_count": 31,
      "outputs": [
        {
          "output_type": "execute_result",
          "data": {
            "text/plain": [
              "array([[ 2,  3,  4],\n",
              "       [ 1,  2,  3],\n",
              "       [ 5,  6,  7],\n",
              "       [10, 11, 12]])"
            ]
          },
          "metadata": {},
          "execution_count": 31
        }
      ]
    },
    {
      "cell_type": "code",
      "source": [
        "X.T"
      ],
      "metadata": {
        "colab": {
          "base_uri": "https://localhost:8080/"
        },
        "id": "BRNYQjnzMi5r",
        "outputId": "22e380c9-b409-46a8-e9ad-469fdce0e625"
      },
      "execution_count": 32,
      "outputs": [
        {
          "output_type": "execute_result",
          "data": {
            "text/plain": [
              "array([[ 2,  1,  5, 10],\n",
              "       [ 3,  2,  6, 11],\n",
              "       [ 4,  3,  7, 12]])"
            ]
          },
          "metadata": {},
          "execution_count": 32
        }
      ]
    },
    {
      "cell_type": "code",
      "source": [
        "partial_derivative = -X.T @ difference\n",
        "partial_derivative"
      ],
      "metadata": {
        "colab": {
          "base_uri": "https://localhost:8080/"
        },
        "id": "Hl_FWsdQMkxh",
        "outputId": "57c94ef1-2969-48af-a9fc-d1f1e221aa9d"
      },
      "execution_count": 33,
      "outputs": [
        {
          "output_type": "execute_result",
          "data": {
            "text/plain": [
              "array([[6.],\n",
              "       [6.],\n",
              "       [6.]])"
            ]
          },
          "metadata": {},
          "execution_count": 33
        }
      ]
    },
    {
      "cell_type": "code",
      "source": [
        "learning_rate = 0.001\n",
        "weights -= learning_rate*partial_derivative\n",
        "\n",
        "weights"
      ],
      "metadata": {
        "colab": {
          "base_uri": "https://localhost:8080/"
        },
        "id": "NxuVT3bnMoFB",
        "outputId": "e9d5f1f0-0758-4e26-9ca7-494c9c0c8489"
      },
      "execution_count": 34,
      "outputs": [
        {
          "output_type": "execute_result",
          "data": {
            "text/plain": [
              "array([[0.994],\n",
              "       [0.994],\n",
              "       [0.994]])"
            ]
          },
          "metadata": {},
          "execution_count": 34
        }
      ]
    },
    {
      "cell_type": "code",
      "source": [
        "sample_mse_function(Y_true, X@weights)"
      ],
      "metadata": {
        "colab": {
          "base_uri": "https://localhost:8080/"
        },
        "id": "zyf0ttSDMqa7",
        "outputId": "ffeb7a3a-ad7f-43da-d508-d17c56185845"
      },
      "execution_count": 35,
      "outputs": [
        {
          "output_type": "execute_result",
          "data": {
            "text/plain": [
              "0.9597700000000007"
            ]
          },
          "metadata": {},
          "execution_count": 35
        }
      ]
    },
    {
      "cell_type": "markdown",
      "source": [
        "# Mean Absolute Error:\n",
        "![mae_loss_function.png](data:image/png;base64,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)\n",
        "Derivative:\n",
        "![mae_derivative.png](data:image/png;base64,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)"
      ],
      "metadata": {
        "id": "pLDzvFvyM2zs"
      }
    },
    {
      "cell_type": "code",
      "source": [
        "def sample_mean_absolute_error(Y, Y_pred):\n",
        "    return np.mean(np.absolute(Y - Y_pred))"
      ],
      "metadata": {
        "id": "FA4KikdvNMT2"
      },
      "execution_count": 36,
      "outputs": []
    },
    {
      "cell_type": "code",
      "source": [
        "a = np.array([1, 2, 3, 4, 5])\n",
        "\n",
        "# First parameter is the condition\n",
        "# Second parameter is the value if true\n",
        "# Third parameter is the value if false\n",
        "\n",
        "np.where(a < 3, 0, a)"
      ],
      "metadata": {
        "colab": {
          "base_uri": "https://localhost:8080/"
        },
        "id": "c7C9GQLQNPZ2",
        "outputId": "82c62a52-0433-4fcc-dc19-2f3590d8ec93"
      },
      "execution_count": 37,
      "outputs": [
        {
          "output_type": "execute_result",
          "data": {
            "text/plain": [
              "array([0, 0, 3, 4, 5])"
            ]
          },
          "metadata": {},
          "execution_count": 37
        }
      ]
    },
    {
      "cell_type": "code",
      "source": [
        "def sample_mae_derivative(X, Y, Y_pred):\n",
        "    # Get the difference\n",
        "    difference = Y_pred - Y\n",
        "\n",
        "    # If difference is 0, then substitute the values with 0, otherwise keep the same value\n",
        "    abs_derivative = np.where(difference == 0, 0, difference)\n",
        "\n",
        "    # If the difference is positive, that means Y_pred > Y\n",
        "    abs_derivative = np.where(abs_derivative > 0, 1, abs_derivative)\n",
        "\n",
        "    # If the difference is negative, that means Y_pred < Y\n",
        "    abs_derivative = np.where(abs_derivative < 0, -1, abs_derivative)\n",
        "    return X.T @ abs_derivative"
      ],
      "metadata": {
        "id": "S_1g-TLDNSAO"
      },
      "execution_count": 38,
      "outputs": []
    },
    {
      "cell_type": "code",
      "source": [
        "X = np.array([[2, 3, 4], [1, 2, 3], [5, 6, 7], [10, 11, 12]])\n",
        "weights = np.ones(shape=(X.shape[1], 1))\n",
        "Y_pred = X@weights\n",
        "Y_true = np.array([[7], [6], [20], [30]])\n",
        "\n",
        "display(Y_pred)\n",
        "display(Y_true)"
      ],
      "metadata": {
        "colab": {
          "base_uri": "https://localhost:8080/",
          "height": 156
        },
        "id": "20OKz5YNNUDG",
        "outputId": "14445d2f-e776-40d7-da62-12d7ec54d038"
      },
      "execution_count": 39,
      "outputs": [
        {
          "output_type": "display_data",
          "data": {
            "text/plain": [
              "array([[ 9.],\n",
              "       [ 6.],\n",
              "       [18.],\n",
              "       [33.]])"
            ]
          },
          "metadata": {}
        },
        {
          "output_type": "display_data",
          "data": {
            "text/plain": [
              "array([[ 7],\n",
              "       [ 6],\n",
              "       [20],\n",
              "       [30]])"
            ]
          },
          "metadata": {}
        }
      ]
    },
    {
      "cell_type": "code",
      "source": [
        "sample_mean_absolute_error(Y_true, Y_pred)"
      ],
      "metadata": {
        "colab": {
          "base_uri": "https://localhost:8080/"
        },
        "id": "ytS22qdvNWki",
        "outputId": "555938d4-e575-4305-aabd-b9b91183b342"
      },
      "execution_count": 40,
      "outputs": [
        {
          "output_type": "execute_result",
          "data": {
            "text/plain": [
              "1.75"
            ]
          },
          "metadata": {},
          "execution_count": 40
        }
      ]
    },
    {
      "cell_type": "code",
      "source": [
        "partial_derivative = sample_mae_derivative(X, Y_true, Y_pred)\n",
        "\n",
        "partial_derivative"
      ],
      "metadata": {
        "colab": {
          "base_uri": "https://localhost:8080/"
        },
        "id": "HdWcEufVNY8Q",
        "outputId": "6c2ecb23-8189-4c58-e764-f8e84643ffe8"
      },
      "execution_count": 41,
      "outputs": [
        {
          "output_type": "execute_result",
          "data": {
            "text/plain": [
              "array([[7.],\n",
              "       [8.],\n",
              "       [9.]])"
            ]
          },
          "metadata": {},
          "execution_count": 41
        }
      ]
    },
    {
      "cell_type": "code",
      "source": [
        "weights -= 0.001 * partial_derivative\n",
        "Y_pred = X@weights\n",
        "sample_mean_absolute_error(Y_true, Y_pred)"
      ],
      "metadata": {
        "colab": {
          "base_uri": "https://localhost:8080/"
        },
        "id": "pQtdOJX3NcQi",
        "outputId": "ea6519cc-a449-4efa-e64f-2d8822eab5cb"
      },
      "execution_count": 42,
      "outputs": [
        {
          "output_type": "execute_result",
          "data": {
            "text/plain": [
              "1.7140000000000006"
            ]
          },
          "metadata": {},
          "execution_count": 42
        }
      ]
    },
    {
      "cell_type": "markdown",
      "source": [
        "# Putting everything together"
      ],
      "metadata": {
        "id": "WAUIY_tvNeRE"
      }
    },
    {
      "cell_type": "code",
      "source": [
        "class LinearRegression():\n",
        "    def __init__(self,\n",
        "                 loss_function= 'mse', max_iter=1000, learning_rate = 0.001,\n",
        "                fit_intercept=True, tolerance=0.001):\n",
        "        # Before we know the shape of the data, we cannot initialize weights\n",
        "        self._weights = None\n",
        "        self._max_iter = max_iter\n",
        "        self._learning_rate = learning_rate\n",
        "        self._fit_intercept = fit_intercept\n",
        "        self._tolerance = tolerance\n",
        "        self._loss_function = loss_function\n",
        "        self._loss_dict = {\n",
        "            'mse': self.mean_squared_loss,\n",
        "            'abs': self.mean_absolute_loss,\n",
        "        }\n",
        "        self._derivative_dict = {\n",
        "            'mse': self.mean_squared_loss_derivative,\n",
        "            'abs': self.mean_absolute_loss_derivative,\n",
        "        }\n",
        "        self._loss_history = None\n",
        "        self._weights_history = None\n",
        "\n",
        "    # Trailing underscore indicates that a method is for internal use\n",
        "    def _init_weights(self, num_features):\n",
        "        # It is good practice to use a normal distribution with mean 0 for weight initialization\n",
        "        # There are more complicated methods too! But this works\n",
        "        self._weights = np.random.normal(size=(num_features,1))\n",
        "\n",
        "    def fit(self, X, Y):\n",
        "        assert len(X) == len(Y), \"X and Y should be the same length\"\n",
        "        # If we want to add a \"bias\" term, or y_intercept\n",
        "        if self._fit_intercept:\n",
        "            X = np.concatenate((X, np.ones(shape=(len(X), 1))), axis=1)\n",
        "\n",
        "        # Initialize the weights\n",
        "        self._init_weights(X.shape[1])\n",
        "\n",
        "        # Initialize two lists to store the history\n",
        "        loss_history = []\n",
        "        weights_history = []\n",
        "\n",
        "        # Used for early stopping on model convergence\n",
        "        previous_loss = np.inf\n",
        "        converged = False\n",
        "        for i in range(self._max_iter):\n",
        "            # Get Prediction\n",
        "            Y_pred = self.predict(X)\n",
        "\n",
        "            # Calculate loss to monitor preformance\n",
        "            loss = self._loss_dict[self._loss_function](Y, Y_pred)\n",
        "\n",
        "            # Stop Gradient Descent if model has converged\n",
        "            if np.abs(loss - previous_loss) < self._tolerance:\n",
        "                converged = True\n",
        "                break\n",
        "            previous_loss = loss\n",
        "\n",
        "            loss_history.append(loss)\n",
        "            # Because a Numpy Array is an object that gets updated each time\n",
        "            # We need to use .copy() to append it to get the weights\n",
        "            weights_history.append(self._weights.reshape(-1).copy())\n",
        "\n",
        "            # Calculate Partial Derivative\n",
        "            partial_derivative = self._derivative_dict[self._loss_function](X, Y, Y_pred)\n",
        "\n",
        "            # Update the weights\n",
        "            self._weights -= self._learning_rate * partial_derivative\n",
        "\n",
        "        if converged:\n",
        "            print(\"Model Converged\")\n",
        "        else:\n",
        "            print(\"Warning: Max iterations reached, model did not converge\")\n",
        "\n",
        "        self._loss_history = np.array(loss_history)\n",
        "        self._weights_history = np.array(weights_history)\n",
        "\n",
        "    def predict(self, X):\n",
        "        Y_pred = X @ self._weights\n",
        "        return Y_pred\n",
        "\n",
        "    def get_coefficients(self):\n",
        "        return self._weights\n",
        "\n",
        "    def get_training_history(self):\n",
        "        return self._loss_history, self._weights_history\n",
        "\n",
        "    # MSE Losses\n",
        "    @staticmethod\n",
        "    def mean_squared_loss(Y, Y_pred):\n",
        "        return np.mean((Y - Y_pred)**2)\n",
        "\n",
        "    def mean_squared_loss_derivative(self, X, Y, Y_pred):\n",
        "        return (-X.T @ (Y - Y_pred)) / len(X)\n",
        "\n",
        "    # Absolute Losses\n",
        "    @staticmethod\n",
        "    def mean_absolute_loss(Y, Y_pred):\n",
        "        return np.mean(np.absolute(Y-Y_pred))\n",
        "\n",
        "    def mean_absolute_loss_derivative(self, X, Y, Y_pred):\n",
        "        difference = Y_pred - Y\n",
        "        # If difference is 0, then substitute the values with 0, otherwise keep the same value\n",
        "        abs_derivative = np.where(difference == 0, 0, difference)\n",
        "        # If the difference is positive, that means Y_pred > Y\n",
        "        abs_derivative = np.where(abs_derivative > 0, 1, abs_derivative)\n",
        "        # If the difference is negative, that means Y_pred < Y\n",
        "        abs_derivative = np.where(abs_derivative < 0, -1, abs_derivative)\n",
        "        return X.T @ abs_derivative"
      ],
      "metadata": {
        "id": "0sqKOrlfNd43"
      },
      "execution_count": 44,
      "outputs": []
    },
    {
      "cell_type": "code",
      "source": [
        "from sklearn.preprocessing import StandardScaler"
      ],
      "metadata": {
        "id": "OZHfeskzNm31"
      },
      "execution_count": 45,
      "outputs": []
    },
    {
      "cell_type": "code",
      "source": [
        "Y = data[['PRICE']].to_numpy()\n",
        "X = data[feature_names].to_numpy()\n",
        "scaler = StandardScaler()\n",
        "X = scaler.fit_transform(X)\n",
        "print(X.shape)\n",
        "print(Y.shape)"
      ],
      "metadata": {
        "colab": {
          "base_uri": "https://localhost:8080/"
        },
        "id": "P3KSflZzNo6l",
        "outputId": "f5ae58dd-8666-47f3-c7e8-4fd55fc125bb"
      },
      "execution_count": 47,
      "outputs": [
        {
          "output_type": "stream",
          "name": "stdout",
          "text": [
            "(506, 13)\n",
            "(506, 1)\n"
          ]
        }
      ]
    },
    {
      "cell_type": "code",
      "source": [
        "Regressor = LinearRegression(loss_function='mse', learning_rate=0.01)"
      ],
      "metadata": {
        "id": "PKhEWSwiNqod"
      },
      "execution_count": 48,
      "outputs": []
    },
    {
      "cell_type": "code",
      "source": [
        "Regressor.fit(X, Y)"
      ],
      "metadata": {
        "colab": {
          "base_uri": "https://localhost:8080/"
        },
        "id": "iB5AOYMzNuOl",
        "outputId": "d312e684-6d60-4b53-af92-15fb65af4129"
      },
      "execution_count": 49,
      "outputs": [
        {
          "output_type": "stream",
          "name": "stdout",
          "text": [
            "Model Converged\n"
          ]
        }
      ]
    },
    {
      "cell_type": "code",
      "source": [
        "loss_history, weights_history = Regressor.get_training_history()\n",
        "print(loss_history.shape)\n",
        "print(weights_history.shape)"
      ],
      "metadata": {
        "colab": {
          "base_uri": "https://localhost:8080/"
        },
        "id": "CG7dqzj0NwEd",
        "outputId": "b616cfa1-5ca2-4957-eb51-02d351d9d651"
      },
      "execution_count": 50,
      "outputs": [
        {
          "output_type": "stream",
          "name": "stdout",
          "text": [
            "(745,)\n",
            "(745, 14)\n"
          ]
        }
      ]
    },
    {
      "cell_type": "code",
      "source": [
        "plt.figure(dpi=150)\n",
        "iterations = range(1, len(loss_history) + 1)\n",
        "plt.title(\"Training Loss\")\n",
        "plt.plot(iterations, loss_history)\n",
        "plt.xlabel(\"Epoch\")\n",
        "plt.ylabel(\"Loss\")\n",
        "plt.show()"
      ],
      "metadata": {
        "colab": {
          "base_uri": "https://localhost:8080/",
          "height": 693
        },
        "id": "oKThksf7NynV",
        "outputId": "173ec675-03c4-4171-e8fc-380c64684151"
      },
      "execution_count": 51,
      "outputs": [
        {
          "output_type": "display_data",
          "data": {
            "text/plain": [
              "<Figure size 960x720 with 1 Axes>"
            ],
            "image/png": "[encoded data removed]"
          },
          "metadata": {}
        }
      ]
    },
    {
      "cell_type": "code",
      "source": [
        "plt.figure(dpi=150)\n",
        "plt.title(\"Weight Update\")\n",
        "plt.plot(iterations, weights_history[:, 1])\n",
        "plt.xlabel(\"Epoch\")\n",
        "plt.ylabel(\"Weight\")\n",
        "plt.show()"
      ],
      "metadata": {
        "colab": {
          "base_uri": "https://localhost:8080/",
          "height": 687
        },
        "id": "Zwi1m2OfN0w1",
        "outputId": "89e298d6-c778-4d91-8d5f-fcdd802b6055"
      },
      "execution_count": 53,
      "outputs": [
        {
          "output_type": "display_data",
          "data": {
            "text/plain": [
              "<Figure size 960x720 with 1 Axes>"
            ],
            "image/png": "[encoded data removed]"
          },
          "metadata": {}
        }
      ]
    },
    {
      "cell_type": "code",
      "source": [],
      "metadata": {
        "id": "7FoXTDa6N6R0"
      },
      "execution_count": null,
      "outputs": []
    }
  ]
}